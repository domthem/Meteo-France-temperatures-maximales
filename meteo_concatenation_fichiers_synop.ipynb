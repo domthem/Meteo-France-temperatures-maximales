{
 "cells": [
  {
   "cell_type": "code",
   "execution_count": 1,
   "id": "fd4e6b4b",
   "metadata": {},
   "outputs": [],
   "source": [
    "import pandas as pd\n",
    "import geopandas as gpd\n",
    "import numpy as np"
   ]
  },
  {
   "cell_type": "code",
   "execution_count": 2,
   "id": "094b291c",
   "metadata": {},
   "outputs": [],
   "source": [
    "#Programme d'aggrégation des fichiers meteo synop mensuel téléchargés à partir du site de météo-france"
   ]
  },
  {
   "cell_type": "code",
   "execution_count": 3,
   "id": "7684a735",
   "metadata": {},
   "outputs": [],
   "source": [
    "#lecture de la liste des mois\n",
    "df_mois=pd.read_csv(r\"C:\\DATA\\meteo\\liste_mois.csv\")\n",
    "df_mois[\"mois\"]=df_mois[\"mois\"].astype(\"str\")\n",
    "liste_mois=list(df_mois[\"mois\"])"
   ]
  },
  {
   "cell_type": "code",
   "execution_count": 4,
   "id": "f4b9317f",
   "metadata": {},
   "outputs": [
    {
     "name": "stdout",
     "output_type": "stream",
     "text": [
      "dimensions data_synop : 4561174\n"
     ]
    }
   ],
   "source": [
    "#Initialisation du dataframe avec le dernier mois de la liste\n",
    "nomFichier=\"C:\\DATA\\meteo\\synop.\"+liste_mois[-1]+\".csv\"\n",
    "data_synop=pd.read_csv(nomFichier,sep=\";\")\n",
    "\n",
    "#Ajout des moissuivants\n",
    "for i in np.arange(len(liste_mois)-1):\n",
    "    nomFichier=\"C:\\DATA\\meteo\\synop.\"+liste_mois[i]+\".csv\"\n",
    "    data=pd.read_csv(nomFichier,sep=\";\")\n",
    "    data_synop=pd.concat([data_synop,data],axis=0)\n",
    "\n",
    "#Nombre de lignes du fichier résultant\n",
    "print(\"dimensions data_synop :\",data_synop.shape[0])"
   ]
  },
  {
   "cell_type": "code",
   "execution_count": 5,
   "id": "ec222b16",
   "metadata": {},
   "outputs": [
    {
     "data": {
      "text/html": [
       "<div>\n",
       "<style scoped>\n",
       "    .dataframe tbody tr th:only-of-type {\n",
       "        vertical-align: middle;\n",
       "    }\n",
       "\n",
       "    .dataframe tbody tr th {\n",
       "        vertical-align: top;\n",
       "    }\n",
       "\n",
       "    .dataframe thead th {\n",
       "        text-align: right;\n",
       "    }\n",
       "</style>\n",
       "<table border=\"1\" class=\"dataframe\">\n",
       "  <thead>\n",
       "    <tr style=\"text-align: right;\">\n",
       "      <th></th>\n",
       "      <th>ID_station</th>\n",
       "      <th>date</th>\n",
       "      <th>t</th>\n",
       "    </tr>\n",
       "  </thead>\n",
       "  <tbody>\n",
       "    <tr>\n",
       "      <th>0</th>\n",
       "      <td>7005</td>\n",
       "      <td>20230201000000</td>\n",
       "      <td>280.150000</td>\n",
       "    </tr>\n",
       "    <tr>\n",
       "      <th>1</th>\n",
       "      <td>7015</td>\n",
       "      <td>20230201000000</td>\n",
       "      <td>280.250000</td>\n",
       "    </tr>\n",
       "    <tr>\n",
       "      <th>2</th>\n",
       "      <td>7020</td>\n",
       "      <td>20230201000000</td>\n",
       "      <td>281.950000</td>\n",
       "    </tr>\n",
       "    <tr>\n",
       "      <th>3</th>\n",
       "      <td>7027</td>\n",
       "      <td>20230201000000</td>\n",
       "      <td>280.350000</td>\n",
       "    </tr>\n",
       "    <tr>\n",
       "      <th>4</th>\n",
       "      <td>7037</td>\n",
       "      <td>20230201000000</td>\n",
       "      <td>280.350000</td>\n",
       "    </tr>\n",
       "  </tbody>\n",
       "</table>\n",
       "</div>"
      ],
      "text/plain": [
       "   ID_station            date           t\n",
       "0        7005  20230201000000  280.150000\n",
       "1        7015  20230201000000  280.250000\n",
       "2        7020  20230201000000  281.950000\n",
       "3        7027  20230201000000  280.350000\n",
       "4        7037  20230201000000  280.350000"
      ]
     },
     "execution_count": 5,
     "metadata": {},
     "output_type": "execute_result"
    }
   ],
   "source": [
    "#Sélection des variables suite à l' étude de  qualité préalable\n",
    "data_synop=data_synop[[\"numer_sta\",\"date\",\"t\"]]\n",
    "data_synop=data_synop.rename({\"numer_sta\":\"ID_station\"},axis=1)\n",
    "data_synop=data_synop.reset_index(drop=True)\n",
    "data_synop.head(5)"
   ]
  },
  {
   "cell_type": "code",
   "execution_count": 6,
   "id": "0ac2c4bb",
   "metadata": {},
   "outputs": [
    {
     "name": "stdout",
     "output_type": "stream",
     "text": [
      "Nombre de stations sélectionnées: 42\n",
      "dimensions data_synop : 3248258\n"
     ]
    }
   ],
   "source": [
    "#Sélection des stations à partir du fichier issu de l'étude préalable\n",
    "liste_stations=pd.read_csv(r\"C:\\DATA\\meteo\\stations_Synop_sélectionnées.csv\")\n",
    "\n",
    "data_synop=data_synop.merge(right=liste_stations,on=\"ID_station\",how=\"inner\")\n",
    "\n",
    "print(\"Nombre de stations sélectionnées:\",liste_stations.shape[0])\n",
    "\n",
    "#nombre de lignes du fichier résultant\n",
    "print(\"dimensions data_synop :\",data_synop.shape[0])"
   ]
  },
  {
   "cell_type": "code",
   "execution_count": 7,
   "id": "da726b1e",
   "metadata": {},
   "outputs": [
    {
     "data": {
      "text/html": [
       "<div>\n",
       "<style scoped>\n",
       "    .dataframe tbody tr th:only-of-type {\n",
       "        vertical-align: middle;\n",
       "    }\n",
       "\n",
       "    .dataframe tbody tr th {\n",
       "        vertical-align: top;\n",
       "    }\n",
       "\n",
       "    .dataframe thead th {\n",
       "        text-align: right;\n",
       "    }\n",
       "</style>\n",
       "<table border=\"1\" class=\"dataframe\">\n",
       "  <thead>\n",
       "    <tr style=\"text-align: right;\">\n",
       "      <th></th>\n",
       "      <th>ID_station</th>\n",
       "      <th>date</th>\n",
       "      <th>t</th>\n",
       "      <th>Nom_station</th>\n",
       "      <th>Latitude</th>\n",
       "      <th>Longitude</th>\n",
       "      <th>Altitude</th>\n",
       "      <th>geometry</th>\n",
       "      <th>distance_Paris</th>\n",
       "    </tr>\n",
       "  </thead>\n",
       "  <tbody>\n",
       "    <tr>\n",
       "      <th>0</th>\n",
       "      <td>7005</td>\n",
       "      <td>20230201000000</td>\n",
       "      <td>280.150000</td>\n",
       "      <td>ABBEVILLE</td>\n",
       "      <td>50.136</td>\n",
       "      <td>1.834</td>\n",
       "      <td>69</td>\n",
       "      <td>POINT (1.834 50.136)</td>\n",
       "      <td>146.972</td>\n",
       "    </tr>\n",
       "    <tr>\n",
       "      <th>1</th>\n",
       "      <td>7005</td>\n",
       "      <td>20230201030000</td>\n",
       "      <td>279.250000</td>\n",
       "      <td>ABBEVILLE</td>\n",
       "      <td>50.136</td>\n",
       "      <td>1.834</td>\n",
       "      <td>69</td>\n",
       "      <td>POINT (1.834 50.136)</td>\n",
       "      <td>146.972</td>\n",
       "    </tr>\n",
       "    <tr>\n",
       "      <th>2</th>\n",
       "      <td>7005</td>\n",
       "      <td>20230201060000</td>\n",
       "      <td>279.250000</td>\n",
       "      <td>ABBEVILLE</td>\n",
       "      <td>50.136</td>\n",
       "      <td>1.834</td>\n",
       "      <td>69</td>\n",
       "      <td>POINT (1.834 50.136)</td>\n",
       "      <td>146.972</td>\n",
       "    </tr>\n",
       "    <tr>\n",
       "      <th>3</th>\n",
       "      <td>7005</td>\n",
       "      <td>20230201090000</td>\n",
       "      <td>280.450000</td>\n",
       "      <td>ABBEVILLE</td>\n",
       "      <td>50.136</td>\n",
       "      <td>1.834</td>\n",
       "      <td>69</td>\n",
       "      <td>POINT (1.834 50.136)</td>\n",
       "      <td>146.972</td>\n",
       "    </tr>\n",
       "    <tr>\n",
       "      <th>4</th>\n",
       "      <td>7005</td>\n",
       "      <td>20230201180000</td>\n",
       "      <td>281.650000</td>\n",
       "      <td>ABBEVILLE</td>\n",
       "      <td>50.136</td>\n",
       "      <td>1.834</td>\n",
       "      <td>69</td>\n",
       "      <td>POINT (1.834 50.136)</td>\n",
       "      <td>146.972</td>\n",
       "    </tr>\n",
       "  </tbody>\n",
       "</table>\n",
       "</div>"
      ],
      "text/plain": [
       "   ID_station            date           t Nom_station  Latitude  Longitude  \\\n",
       "0        7005  20230201000000  280.150000   ABBEVILLE    50.136      1.834   \n",
       "1        7005  20230201030000  279.250000   ABBEVILLE    50.136      1.834   \n",
       "2        7005  20230201060000  279.250000   ABBEVILLE    50.136      1.834   \n",
       "3        7005  20230201090000  280.450000   ABBEVILLE    50.136      1.834   \n",
       "4        7005  20230201180000  281.650000   ABBEVILLE    50.136      1.834   \n",
       "\n",
       "   Altitude              geometry  distance_Paris  \n",
       "0        69  POINT (1.834 50.136)         146.972  \n",
       "1        69  POINT (1.834 50.136)         146.972  \n",
       "2        69  POINT (1.834 50.136)         146.972  \n",
       "3        69  POINT (1.834 50.136)         146.972  \n",
       "4        69  POINT (1.834 50.136)         146.972  "
      ]
     },
     "execution_count": 7,
     "metadata": {},
     "output_type": "execute_result"
    }
   ],
   "source": [
    "data_synop.head(5)"
   ]
  },
  {
   "cell_type": "code",
   "execution_count": 8,
   "id": "ef07f747",
   "metadata": {},
   "outputs": [],
   "source": [
    "#Exportation du fichier préparé pour la suite de l'étude\n",
    "data_synop.to_csv(r\"C:\\DATA\\meteo\\data_synop.csv\",index=False)"
   ]
  },
  {
   "cell_type": "code",
   "execution_count": 9,
   "id": "0de35142",
   "metadata": {},
   "outputs": [],
   "source": [
    "#FIN CONCATENATION des fichiers"
   ]
  }
 ],
 "metadata": {
  "kernelspec": {
   "display_name": "Python 3 (ipykernel)",
   "language": "python",
   "name": "python3"
  },
  "language_info": {
   "codemirror_mode": {
    "name": "ipython",
    "version": 3
   },
   "file_extension": ".py",
   "mimetype": "text/x-python",
   "name": "python",
   "nbconvert_exporter": "python",
   "pygments_lexer": "ipython3",
   "version": "3.10.8"
  }
 },
 "nbformat": 4,
 "nbformat_minor": 5
}
